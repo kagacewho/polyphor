{
 "cells": [
  {
   "cell_type": "code",
   "execution_count": 2,
   "id": "95d62862",
   "metadata": {},
   "outputs": [
    {
     "name": "stdout",
     "output_type": "stream",
     "text": [
      "Meow\n",
      "Woof\n"
     ]
    }
   ],
   "source": [
    "class Cat:\n",
    "    def speak(self):\n",
    "        return \"Meow\"\n",
    "    \n",
    "class Dog:\n",
    "    def speak(self):\n",
    "        return \"Woof\"\n",
    "    \n",
    "def make_animal_speak(animal):\n",
    "    print(animal.speak())\n",
    "\n",
    "cat = Cat()\n",
    "dog = Dog()\n",
    "\n",
    "make_animal_speak(cat)\n",
    "make_animal_speak(dog)"
   ]
  },
  {
   "cell_type": "code",
   "execution_count": 3,
   "id": "99ee7fd9",
   "metadata": {},
   "outputs": [
    {
     "name": "stdout",
     "output_type": "stream",
     "text": [
      "(4, 6)\n",
      "(5, 7, 9)\n"
     ]
    }
   ],
   "source": [
    "class Vector2D:\n",
    "    def __init__(self, x, y):\n",
    "        self.x = x\n",
    "        self.y = y\n",
    "\n",
    "    def __add__(self, other):\n",
    "        return Vector2D(self.x + other.x, self.y + other.y)\n",
    "\n",
    "    def __str__(self):\n",
    "        return f\"({self.x}, {self.y})\"\n",
    "\n",
    "class Vector3D:\n",
    "    def __init__(self, x, y, z):\n",
    "        self.x = x\n",
    "        self.y = y\n",
    "        self.z = z\n",
    "\n",
    "    def __add__(self, other):\n",
    "        return Vector3D(self.x + other.x, self.y + other.y, \n",
    "                        self.z + other.z)\n",
    "\n",
    "    def __str__(self):\n",
    "        return f\"({self.x}, {self.y}, {self.z})\"\n",
    "\n",
    "v2d_1 = Vector2D(1, 2)\n",
    "v2d_2 = Vector2D(3, 4)\n",
    "v3d_1 = Vector3D(1, 2, 3)\n",
    "v3d_2 = Vector3D(4, 5, 6)\n",
    "\n",
    "print(v2d_1 + v2d_2)\n",
    "print(v3d_1 + v3d_2)"
   ]
  },
  {
   "cell_type": "code",
   "execution_count": null,
   "id": "30a79b74",
   "metadata": {},
   "outputs": [
    {
     "name": "stdout",
     "output_type": "stream",
     "text": [
      "(4, 6)\n",
      "(5, 7, 9)\n",
      "(4, 6)\n",
      "32\n"
     ]
    }
   ],
   "source": [
    "class Vector2D:\n",
    "    def __init__(self, x, y):\n",
    "        self.x = x\n",
    "        self.y = y\n",
    "\n",
    "    def __add__(self, other):\n",
    "        return Vector2D(self.x + other.x, self.y + other.y)\n",
    "\n",
    "    def __str__(self):\n",
    "        return f\"({self.x}, {self.y})\"\n",
    "\n",
    "class Vector3D:\n",
    "    def __init__(self, x, y, z):\n",
    "        self.x = x\n",
    "        self.y = y\n",
    "        self.z = z\n",
    "\n",
    "    def __add__(self, other):\n",
    "        return Vector3D(self.x + other.x, self.y + other.y, \n",
    "                        self.z + other.z)\n",
    "    \n",
    "    def __str__(self):\n",
    "        return f\"({self.x}, {self.y}, {self.z})\"\n",
    "    \n",
    "    def __mul__(self,other):\n",
    "        return self.x*other.x + self.y*other.y + self.z*other.z\n",
    "    \n",
    "    def __matmul__(self,other):\n",
    "        return Vector3D(self.y*other.z - other.y*self.z,\n",
    "                        other.x*self.z - self.x*other.z,\n",
    "                        self.x*other.y - other.x*self.y)\n",
    "\n",
    "v2d_1 = Vector2D(1, 2)\n",
    "v2d_2 = Vector2D(3, 4)\n",
    "v3d_1 = Vector3D(1, 2, 3)\n",
    "v3d_2 = Vector3D(4, 5, 6)\n",
    "\n",
    "print(v2d_1 + v2d_2)\n",
    "print(v3d_1 + v3d_2)\n",
    "print(v2d_1 + v2d_2)\n",
    "print(v3d_1 * v3d_2)"
   ]
  },
  {
   "cell_type": "code",
   "execution_count": null,
   "id": "56e04a34",
   "metadata": {},
   "outputs": [],
   "source": [
    "class Matrix4:\n",
    "    def __init__ (self, row1, row2, row3, row4):\n",
    "        self.rows = (row1, row2, row3, row4)\n",
    "\n",
    "    def determinant2(a11, a12, a21, a22):\n",
    "        return a11*a22 - a12*a21\n",
    "    \n",
    "    def column_pairs():\n",
    "        column_pairs = []\n",
    "        for i in range(1,4):\n",
    "            if i <= 3:\n",
    "                column_pairs.append([i, i+1])\n",
    "            if i <= 2:\n",
    "                column_pairs.append([i, i+2])\n",
    "            return column_pairs\n",
    "        \n",
    "    def minor2(self, row_index_1, row_index_2):\n",
    "        for i in range(0,3):\n",
    "            for j in range(0,3):\n",
    "                pass\n",
    "\n"
   ]
  },
  {
   "cell_type": "code",
   "execution_count": null,
   "id": "71a80c53",
   "metadata": {},
   "outputs": [],
   "source": []
  }
 ],
 "metadata": {
  "kernelspec": {
   "display_name": "Python 3",
   "language": "python",
   "name": "python3"
  },
  "language_info": {
   "codemirror_mode": {
    "name": "ipython",
    "version": 3
   },
   "file_extension": ".py",
   "mimetype": "text/x-python",
   "name": "python",
   "nbconvert_exporter": "python",
   "pygments_lexer": "ipython3",
   "version": "3.12.3"
  }
 },
 "nbformat": 4,
 "nbformat_minor": 5
}
